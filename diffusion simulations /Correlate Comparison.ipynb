{
 "cells": [
  {
   "cell_type": "markdown",
   "metadata": {
    "collapsed": false
   },
   "source": [
    "# Correlation comparison for intensity data "
   ]
  },
  {
   "cell_type": "code",
   "execution_count": 1,
   "metadata": {
    "collapsed": false
   },
   "outputs": [
    {
     "name": "stdout",
     "output_type": "stream",
     "text": [
      "Populating the interactive namespace from numpy and matplotlib\n",
      "Circular correlate (GREEN)\n",
      "CPU times: user 4.6 ms, sys: 1.15 ms, total: 5.75 ms\n",
      "Wall time: 5.98 ms\n",
      "Circular correlate but corrected (RED)\n",
      "CPU times: user 9.13 ms, sys: 2.1 ms, total: 11.2 ms\n",
      "Wall time: 11.3 ms\n",
      "Linear correlate but corrected (BLACK)\n",
      "CPU times: user 874 ms, sys: 3.95 ms, total: 878 ms\n",
      "Wall time: 882 ms\n",
      "python correlate with padding (BLUE)\n",
      "CPU times: user 3.43 s, sys: 26.4 ms, total: 3.46 s\n",
      "Wall time: 3.47 s\n",
      "python correlate with valid (grey)\n",
      "CPU times: user 22.5 s, sys: 90.5 ms, total: 22.6 s\n",
      "Wall time: 22.6 s\n",
      "python multiple-tau (red dots)\n",
      "CPU times: user 4.26 ms, sys: 204 µs, total: 4.46 ms\n",
      "Wall time: 4.47 ms\n"
     ]
    }
   ],
   "source": [
    "%pylab inline\n",
    "import numpy as np\n",
    "import numpy.fft\n",
    "import tifffile \n",
    "import sys\n",
    "import multipletau as mpt #install from here: https://github.com/FCS-analysis/multipletau\n",
    "\n",
    "def correlate_circular(a, b):\n",
    "    \"\"\"Return circular correlation of two vectors using DFT.\"\"\"\n",
    "    size = a.size\n",
    "\n",
    "    # forward DFT\n",
    "    a = np.fft.rfft(a)\n",
    "    b = np.fft.rfft(b)\n",
    "    # multiply by complex conjugate\n",
    "    c = a * b.conj()\n",
    "    # reverse DFT\n",
    "    c = np.fft.irfft(c)\n",
    "    \n",
    "    # positive delays only\n",
    "    c = c[:size // 2]\n",
    "        \n",
    "    # normalize with the averages of a and b\n",
    "    #   c is already normalized by size\n",
    "    #   the 0th value of the DFT contains the sum of the signal\n",
    "    c /= a[0].real * b[0].real / size\n",
    "    c -= 1.0\n",
    "    \n",
    "    return c\n",
    "def correlate_linear(a, b):\n",
    "    \"\"\"Return linear correlation of two vectors using DFT.\"\"\"\n",
    "    size = a.size\n",
    "    \n",
    "    # subtract mean and pad with zeros to twice the size\n",
    "    a_mean = a.mean()\n",
    "    b_mean = b.mean()\n",
    "    \n",
    "    #Has the padding in\n",
    "    a = np.pad(a-a_mean, a.size//2, mode='constant')\n",
    "    b = np.pad(b-b_mean, b.size//2, mode='constant')\n",
    "    \n",
    "    # forward DFT\n",
    "    a = np.fft.rfft(a)\n",
    "    b = np.fft.rfft(b)\n",
    "    # multiply by complex conjugate\n",
    "    c = a * b.conj()\n",
    "    # reverse DFT\n",
    "    c = np.fft.irfft(c)\n",
    "    # positive delays only\n",
    "    c = c[:size // 2]\n",
    "        \n",
    "    # normalize with the averages of a and b\n",
    "    c /= size * a_mean * b_mean\n",
    "    \n",
    "    return c\n",
    "\n",
    "\n",
    "def correlate_numpy(a, b):\n",
    "    \"\"\"Return linear correlation of two vectors using DFT.\"\"\"\n",
    "    size = a.size\n",
    "    \n",
    "    # subtract mean and pad with zeros to twice the size\n",
    "    a_mean = a.mean()\n",
    "    b_mean = b.mean()\n",
    "    \n",
    "    #same, where \n",
    "    c = np.correlate(a-a_mean,b-b_mean,'same')\n",
    "    \n",
    "    # positive delays only\n",
    "    c = c[size // 2:]\n",
    "        \n",
    "    # normalize with the averages of a and b\n",
    "    c /= size*a_mean * b_mean\n",
    "    return c\n",
    "\n",
    "def correlate_python_pad(a,b):\n",
    "    size = a.size\n",
    "    # subtract mean and pad with zeros to twice the size\n",
    "    a_mean = a.mean()\n",
    "    b_mean = b.mean()\n",
    "    bint = np.zeros(size*2)\n",
    "    bint[:size] = b\n",
    "    a = np.pad(a-a_mean, a.size//2, mode='constant')\n",
    "    b = np.pad(b-b_mean, b.size//2, mode='constant')\n",
    "    \n",
    "    mlag = size//2\n",
    "   \n",
    "    c = []\n",
    "    for lag in range(0,size):\n",
    "        c.append(np.sum(b[size//2:-size//2]*a[lag:size+lag]))\n",
    "    \n",
    "    # positive delays only\n",
    "    c = c[size // 2:]\n",
    "        \n",
    "    # normalize with the averages of a and b\n",
    "    c /= size*a_mean * b_mean\n",
    "    return c\n",
    "def correlate_python_valid(a,b):\n",
    "    size = a.size\n",
    "    # subtract mean and pad with zeros to twice the size\n",
    "    \n",
    "    \n",
    "    \n",
    "    \n",
    "    \n",
    "    mlag = size//2\n",
    "   \n",
    "    c = []\n",
    "    atrip =  a\n",
    "    atrip_mu = np.average(atrip)\n",
    "    btrip = b\n",
    "    btrip_mu = np.average(btrip)\n",
    "    c.append(np.sum((atrip-atrip_mu)*(btrip-btrip_mu))/(size*atrip_mu*btrip_mu))\n",
    "    for lag in range(1,mlag):\n",
    "        \n",
    "        atrip =  a[lag:]\n",
    "        atrip_mu = np.average(atrip)\n",
    "        btrip = b[:-lag]\n",
    "        btrip_mu = np.average(btrip)\n",
    "        c.append(np.sum((atrip-atrip_mu)*(btrip-btrip_mu))/(size*atrip_mu*btrip_mu))\n",
    "    \n",
    "    \n",
    "    return c\n",
    "\n",
    "\n",
    "input_data = tifffile.imread('/Users/dwaithe/Documents/collaborators/EggelingC/FCS_experiments/fcs_simulation_data/scanPaper/intensity_carpets/out_img_D_1p0_noi_0_drift_False_ts_30000_mol_120_bleach_False_prob_0_1_.tif')\n",
    "a= input_data[:,0]\n",
    "b= input_data[:,0]\n",
    "\n",
    "##All this functions give normalised outputs.\n",
    "\n",
    "print 'Circular correlate (GREEN)'\n",
    "%time cccor = correlate_circular(a,b)#correlate circular\n",
    "print 'Circular correlate but corrected (RED)'\n",
    "%time clcor = correlate_linear(a,b)#correlate linear\n",
    "print 'Linear correlate but corrected (BLACK)'\n",
    "%time cncor = correlate_numpy(a,b)#correlate linear\n",
    "print 'python correlate with padding (BLUE)'\n",
    "%time cppcor = correlate_python_pad(a,b)#correlate linear with padding\n",
    "print 'python correlate with valid (grey)'\n",
    "%time cpvcor = correlate_python_valid(a,b)#correlate linear with valid\n",
    "print 'python multiple-tau (red dots)'\n",
    "%time mtcor = mpt.correlate(a,b,normalize=True)#correlate linear\n",
    "\n"
   ]
  },
  {
   "cell_type": "code",
   "execution_count": 2,
   "metadata": {
    "collapsed": false
   },
   "outputs": [
    {
     "data": {
      "text/plain": [
       "[<matplotlib.lines.Line2D at 0x116b9c7d0>]"
      ]
     },
     "execution_count": 2,
     "metadata": {},
     "output_type": "execute_result"
    },
    {
     "data": {
      "image/png": "[encoded data removed]",
      "text/plain": [
       "<matplotlib.figure.Figure at 0x111470a50>"
      ]
     },
     "metadata": {},
     "output_type": "display_data"
    }
   ],
   "source": [
    "#Visualise outputs\n",
    "semilogx(cccor, 'g')\n",
    "semilogx(clcor,'r')\n",
    "semilogx(cncor,'k')\n",
    "semilogx(cppcor,'b')\n",
    "semilogx(cpvcor,'grey')\n",
    "semilogx(mtcor[:,0],mtcor[:,1],'ko')"
   ]
  },
  {
   "cell_type": "code",
   "execution_count": null,
   "metadata": {
    "collapsed": false
   },
   "outputs": [],
   "source": []
  }
 ],
 "metadata": {
  "kernelspec": {
   "display_name": "Python 2",
   "language": "python",
   "name": "python2"
  },
  "language_info": {
   "codemirror_mode": {
    "name": "ipython",
    "version": 2
   },
   "file_extension": ".py",
   "mimetype": "text/x-python",
   "name": "python",
   "nbconvert_exporter": "python",
   "pygments_lexer": "ipython2",
   "version": "2.7.13"
  }
 },
 "nbformat": 4,
 "nbformat_minor": 0
}
