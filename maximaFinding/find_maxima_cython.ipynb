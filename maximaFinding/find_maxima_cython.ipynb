{
 "cells": [
  {
   "cell_type": "markdown",
   "metadata": {},
   "source": [
    "# Maxima finding algorithm recreated from implementation in Fiji (ImageJ)"
   ]
  },
  {
   "cell_type": "markdown",
   "metadata": {},
   "source": [
    "This is a re-implementation of the java plugin written by Michael Schmid and Wayne Rasband for ImageJ. The original java code source can be found in: https://imagej.nih.gov/ij/developer/source/ij/plugin/filter/MaximumFinder.java.html\n",
    "This code calls a cython compiled version of the code and is much faster than the python only implementation. If compiling the source code is a problem. This can be done by running at the command line. python setup.py build-ext --inplace ."
   ]
  },
  {
   "cell_type": "code",
   "execution_count": null,
   "metadata": {},
   "outputs": [],
   "source": [
    "%matplotlib inline\n",
    "import matplotlib.pylab as plt\n",
    "import gputools\n",
    "import numpy as np\n",
    "from cython_findmaxima.find_maxima import find_maxima\n",
    "from PIL import Image\n",
    "import numpy as np\n",
    "from scipy import ndimage\n",
    "import time\n",
    "import cv2\n",
    "def find_local_maxima_np(img_data):\n",
    "    #This is the numpy/scipy version of the above function (find local maxima).\n",
    "    #Its a bit faster, and more compact code.\n",
    "    \n",
    "    #Filter data with maximum filter to find maximum filter response in each neighbourhood\n",
    "    max_out = ndimage.filters.maximum_filter(img_data,size=3)\n",
    "    #Find local maxima.\n",
    "    local_max = np.zeros((img_data.shape))\n",
    "    local_max[max_out == img_data] = 1\n",
    "    local_max[img_data == np.min(img_data)] = 0\n",
    "    return local_max.astype(np.bool)\n",
    "cntly = np.array([  6,  15,  15,  20,  36,  44,  50,  56,  59,  62,  70,  70,  71,\n",
    "         76,  83,  89,  93,  96, 109, 111, 126, 133, 134, 135, 136, 148,\n",
    "        149, 158, 162, 162, 163, 164, 164, 164, 168, 169, 171, 182, 183,\n",
    "        184, 185, 186, 187, 189, 194, 197, 205, 211, 215, 221, 222, 225,\n",
    "        226, 228, 231, 233, 241, 243, 244, 245, 245, 248, 252, 257, 263,\n",
    "        265, 271, 275, 278, 278, 287, 290, 296, 298, 301, 309, 318, 323,\n",
    "        326, 327, 334, 335, 339, 342, 345, 345, 346, 347, 351, 351, 352,\n",
    "        358, 366, 366, 371, 372, 375, 379, 383, 384, 396, 411, 414, 415,\n",
    "        418, 418, 420, 431, 439, 439, 443, 455, 461, 467, 468, 469, 471,\n",
    "        473, 479, 479])\n",
    "cntlx = np.array([244, 306, 364, 408, 244, 123, 284, 284,  36, 332, 183, 339, 199,\n",
    "        362, 160, 226, 125, 446, 320, 102, 159,  92, 127,   0,  17, 429,\n",
    "        141, 169, 127, 261,  56,  51, 113, 130, 437,  80, 149,  34, 359,\n",
    "         17,  69, 273,  78,  62, 352, 445, 365, 165,  54,  46,  61, 473,\n",
    "        458,  52,  43, 361,  86, 407,  51,  43,  65, 455, 168, 187, 230,\n",
    "        159,  51,  67,  71, 321, 107, 257, 399, 405, 402,  77,  77,  54,\n",
    "        469, 125, 197,  78,  48, 333,  12,  90, 397, 220,  21, 332, 272,\n",
    "        160, 361, 443, 363, 253, 363,   4, 482, 106, 379, 329, 131, 338,\n",
    "        131, 491, 215, 130, 334, 358,  55, 429, 106, 229,  92, 100, 376,\n",
    "        210, 180, 448])"
   ]
  },
  {
   "cell_type": "code",
   "execution_count": null,
   "metadata": {},
   "outputs": [],
   "source": []
  },
  {
   "cell_type": "code",
   "execution_count": null,
   "metadata": {},
   "outputs": [],
   "source": [
    "img = Image.open('002eggs.png')\n",
    "ntol = 10 #Noise Tolerance.\n",
    "img_data = np.array(img).astype(np.float64)\n",
    "\n",
    "t1 = time.time()\n",
    "\n",
    "\n",
    "#Should your image be an RGB image.\n",
    "if img_data.shape.__len__() >2:\n",
    "    img_data = (np.sum(img_data,2)/3.0)\n",
    "    \n",
    "if np.max(img_data) >255 or np.min(img_data)<0:\n",
    "    print ('warning: your image should be scaled between 0 and 255 (8-bit).')\n",
    "\n",
    "#Finds the local maxima using maximum filter.\n",
    "local_max = find_local_maxima_np(img_data)\n",
    "\n",
    "y,x,out = find_maxima(img_data,local_max.astype(np.uint8),ntol)\n",
    "print(time.time()-t1)\n",
    "assert(np.allclose(cntly,y)),\"Your values don't match the control\"\n",
    "assert(np.allclose(cntlx,x)),\"Your values don't match the control\"\n"
   ]
  },
  {
   "cell_type": "code",
   "execution_count": null,
   "metadata": {},
   "outputs": [],
   "source": [
    "plt.figure(figsize=(24,24))\n",
    "t1 = time.time()\n",
    "imgout = (out>=12)\n",
    "contours,hierarchy = cv2.findContours(np.array(imgout).astype(np.uint8), mode=cv2.RETR_EXTERNAL,method=1)\n",
    "\n",
    "plt.imshow(imgout)\n",
    "\n",
    "for cnt in contours[1:]:\n",
    "    \n",
    "    \n",
    "        \n",
    "        perimeter = float(cv2.arcLength(cnt,True))\n",
    "        if perimeter >0:\n",
    "            x,y,w,h = cv2.boundingRect(cnt)\n",
    "\n",
    "            area = float(cv2.contourArea(cnt))\n",
    "            circ = 4.*np.pi*(area/(perimeter**2))\n",
    "\n",
    "\n",
    "            s = float(h)/float(w)\n",
    "            if s > 1.0:\n",
    "               pass\n",
    "            else:\n",
    "                s = float(h)/float(w)\n",
    "            #print(solidity)\n",
    "            if circ >=0.7 and s <1.2:\n",
    "\n",
    "                plt.plot([x,x+w,x+w,x,x],[y,y,y+h,y+h,y],'g-')\n",
    "print(time.time()-t1)"
   ]
  },
  {
   "cell_type": "code",
   "execution_count": null,
   "metadata": {},
   "outputs": [],
   "source": []
  },
  {
   "cell_type": "code",
   "execution_count": null,
   "metadata": {},
   "outputs": [],
   "source": []
  },
  {
   "cell_type": "code",
   "execution_count": null,
   "metadata": {},
   "outputs": [],
   "source": []
  },
  {
   "cell_type": "code",
   "execution_count": null,
   "metadata": {},
   "outputs": [],
   "source": []
  },
  {
   "cell_type": "code",
   "execution_count": null,
   "metadata": {},
   "outputs": [],
   "source": []
  },
  {
   "cell_type": "code",
   "execution_count": null,
   "metadata": {},
   "outputs": [],
   "source": []
  }
 ],
 "metadata": {
  "kernelspec": {
   "display_name": "Python 3",
   "language": "python",
   "name": "python3"
  },
  "language_info": {
   "codemirror_mode": {
    "name": "ipython",
    "version": 3
   },
   "file_extension": ".py",
   "mimetype": "text/x-python",
   "name": "python",
   "nbconvert_exporter": "python",
   "pygments_lexer": "ipython3",
   "version": "3.7.4"
  }
 },
 "nbformat": 4,
 "nbformat_minor": 4
}
